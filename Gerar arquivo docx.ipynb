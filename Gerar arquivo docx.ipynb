{
 "cells": [
  {
   "cell_type": "code",
   "execution_count": 1,
   "id": "570cccd0",
   "metadata": {},
   "outputs": [
    {
     "name": "stdout",
     "output_type": "stream",
     "text": [
      "Requirement already satisfied: python-docx in /Users/natanaelklein/opt/anaconda3/lib/python3.8/site-packages (0.8.11)\n",
      "Requirement already satisfied: lxml>=2.3.2 in /Users/natanaelklein/opt/anaconda3/lib/python3.8/site-packages (from python-docx) (4.6.3)\n",
      "Note: you may need to restart the kernel to use updated packages.\n"
     ]
    }
   ],
   "source": [
    "pip install python-docx"
   ]
  },
  {
   "cell_type": "code",
   "execution_count": 16,
   "id": "f4fa6733",
   "metadata": {},
   "outputs": [
    {
     "data": {
      "image/png": "[encoded data removed]",
      "text/plain": [
       "<Figure size 432x288 with 1 Axes>"
      ]
     },
     "metadata": {
      "needs_background": "light"
     },
     "output_type": "display_data"
    }
   ],
   "source": [
    "# exemplo gráfico\n",
    "import pandas as pd\n",
    "import seaborn as sns\n",
    "    \n",
    "dados = [['A', 6, 15], ['B', 15, 14], ['C', 1, 14], ['D', 19, 16], ['E', 20, 3], \n",
    "        ['F', 18, 7], ['G', 8, 10], ['H', 1, 3], ['I', 9, 11]]\n",
    "df = pd.DataFrame(dados, columns=['col1', 'col2', 'col3'])\n",
    "\n",
    "# salvar gráfico como png\n",
    "plot = sns.barplot(data=df, x='col1', y='col2')\n",
    "plot.get_figure().savefig('Grafico1.png')"
   ]
  },
  {
   "cell_type": "code",
   "execution_count": 17,
   "id": "8919155e",
   "metadata": {},
   "outputs": [
    {
     "data": {
      "text/html": [
       "<div>\n",
       "<style scoped>\n",
       "    .dataframe tbody tr th:only-of-type {\n",
       "        vertical-align: middle;\n",
       "    }\n",
       "\n",
       "    .dataframe tbody tr th {\n",
       "        vertical-align: top;\n",
       "    }\n",
       "\n",
       "    .dataframe thead th {\n",
       "        text-align: right;\n",
       "    }\n",
       "</style>\n",
       "<table border=\"1\" class=\"dataframe\">\n",
       "  <thead>\n",
       "    <tr style=\"text-align: right;\">\n",
       "      <th></th>\n",
       "      <th>Idade Evento</th>\n",
       "      <th>Município da Notificação</th>\n",
       "    </tr>\n",
       "  </thead>\n",
       "  <tbody>\n",
       "    <tr>\n",
       "      <th>0</th>\n",
       "      <td>16</td>\n",
       "      <td>Porto Alegre</td>\n",
       "    </tr>\n",
       "    <tr>\n",
       "      <th>1</th>\n",
       "      <td>16</td>\n",
       "      <td>Porto Alegre</td>\n",
       "    </tr>\n",
       "    <tr>\n",
       "      <th>2</th>\n",
       "      <td>16</td>\n",
       "      <td>Porto Alegre</td>\n",
       "    </tr>\n",
       "    <tr>\n",
       "      <th>3</th>\n",
       "      <td>16</td>\n",
       "      <td>Porto Alegre</td>\n",
       "    </tr>\n",
       "    <tr>\n",
       "      <th>4</th>\n",
       "      <td>16</td>\n",
       "      <td>Porto Alegre</td>\n",
       "    </tr>\n",
       "    <tr>\n",
       "      <th>5</th>\n",
       "      <td>16</td>\n",
       "      <td>Porto Alegre</td>\n",
       "    </tr>\n",
       "    <tr>\n",
       "      <th>6</th>\n",
       "      <td>16</td>\n",
       "      <td>Porto Alegre</td>\n",
       "    </tr>\n",
       "    <tr>\n",
       "      <th>7</th>\n",
       "      <td>16</td>\n",
       "      <td>Porto Alegre</td>\n",
       "    </tr>\n",
       "    <tr>\n",
       "      <th>8</th>\n",
       "      <td>16</td>\n",
       "      <td>Porto Alegre</td>\n",
       "    </tr>\n",
       "    <tr>\n",
       "      <th>9</th>\n",
       "      <td>16</td>\n",
       "      <td>Porto Alegre</td>\n",
       "    </tr>\n",
       "    <tr>\n",
       "      <th>10</th>\n",
       "      <td>16</td>\n",
       "      <td>Porto Alegre</td>\n",
       "    </tr>\n",
       "    <tr>\n",
       "      <th>11</th>\n",
       "      <td>16</td>\n",
       "      <td>Porto Alegre</td>\n",
       "    </tr>\n",
       "    <tr>\n",
       "      <th>12</th>\n",
       "      <td>16</td>\n",
       "      <td>Porto Alegre</td>\n",
       "    </tr>\n",
       "  </tbody>\n",
       "</table>\n",
       "</div>"
      ],
      "text/plain": [
       "    Idade Evento Município da Notificação\n",
       "0             16             Porto Alegre\n",
       "1             16             Porto Alegre\n",
       "2             16             Porto Alegre\n",
       "3             16             Porto Alegre\n",
       "4             16             Porto Alegre\n",
       "5             16             Porto Alegre\n",
       "6             16             Porto Alegre\n",
       "7             16             Porto Alegre\n",
       "8             16             Porto Alegre\n",
       "9             16             Porto Alegre\n",
       "10            16             Porto Alegre\n",
       "11            16             Porto Alegre\n",
       "12            16             Porto Alegre"
      ]
     },
     "execution_count": 17,
     "metadata": {},
     "output_type": "execute_result"
    }
   ],
   "source": [
    "# exemplo tabela\n",
    "df = pd.read_excel('Erros de imunizações abaixo 18 anos.xlsx')\n",
    "total = df[['Idade Evento', 'Município da Notificação']]\n",
    "total = total[total['Município da Notificação'] == 'Porto Alegre']\n",
    "total = total[total['Idade Evento'] == 16].reset_index(drop=True)\n",
    "total"
   ]
  },
  {
   "cell_type": "code",
   "execution_count": 10,
   "id": "5e9861ab",
   "metadata": {},
   "outputs": [],
   "source": [
    "from datetime import date\n",
    "data_hoje = date.today().strftime('%d/%m/%Y')"
   ]
  },
  {
   "cell_type": "code",
   "execution_count": 19,
   "id": "110ba056",
   "metadata": {},
   "outputs": [
    {
     "ename": "AttributeError",
     "evalue": "'AxesSubplot' object has no attribute 'seek'",
     "output_type": "error",
     "traceback": [
      "\u001b[0;31m---------------------------------------------------------------------------\u001b[0m",
      "\u001b[0;31mAttributeError\u001b[0m                            Traceback (most recent call last)",
      "\u001b[0;32m<ipython-input-19-039650e74818>\u001b[0m in \u001b[0;36m<module>\u001b[0;34m\u001b[0m\n\u001b[1;32m     52\u001b[0m \u001b[0;34m\u001b[0m\u001b[0m\n\u001b[1;32m     53\u001b[0m \u001b[0;31m#gráfico\u001b[0m\u001b[0;34m\u001b[0m\u001b[0;34m\u001b[0m\u001b[0;34m\u001b[0m\u001b[0m\n\u001b[0;32m---> 54\u001b[0;31m \u001b[0mdocument\u001b[0m\u001b[0;34m.\u001b[0m\u001b[0madd_picture\u001b[0m\u001b[0;34m(\u001b[0m\u001b[0mplot\u001b[0m\u001b[0;34m,\u001b[0m \u001b[0mwidth\u001b[0m\u001b[0;34m=\u001b[0m\u001b[0mInches\u001b[0m\u001b[0;34m(\u001b[0m\u001b[0;36m8.25\u001b[0m\u001b[0;34m)\u001b[0m\u001b[0;34m)\u001b[0m\u001b[0;34m\u001b[0m\u001b[0;34m\u001b[0m\u001b[0m\n\u001b[0m\u001b[1;32m     55\u001b[0m \u001b[0;34m\u001b[0m\u001b[0m\n\u001b[1;32m     56\u001b[0m \u001b[0mdocument\u001b[0m\u001b[0;34m.\u001b[0m\u001b[0msave\u001b[0m\u001b[0;34m(\u001b[0m\u001b[0;34m'doc.docx'\u001b[0m\u001b[0;34m)\u001b[0m\u001b[0;34m\u001b[0m\u001b[0;34m\u001b[0m\u001b[0m\n",
      "\u001b[0;32m~/opt/anaconda3/lib/python3.8/site-packages/docx/document.py\u001b[0m in \u001b[0;36madd_picture\u001b[0;34m(self, image_path_or_stream, width, height)\u001b[0m\n\u001b[1;32m     70\u001b[0m         \"\"\"\n\u001b[1;32m     71\u001b[0m         \u001b[0mrun\u001b[0m \u001b[0;34m=\u001b[0m \u001b[0mself\u001b[0m\u001b[0;34m.\u001b[0m\u001b[0madd_paragraph\u001b[0m\u001b[0;34m(\u001b[0m\u001b[0;34m)\u001b[0m\u001b[0;34m.\u001b[0m\u001b[0madd_run\u001b[0m\u001b[0;34m(\u001b[0m\u001b[0;34m)\u001b[0m\u001b[0;34m\u001b[0m\u001b[0;34m\u001b[0m\u001b[0m\n\u001b[0;32m---> 72\u001b[0;31m         \u001b[0;32mreturn\u001b[0m \u001b[0mrun\u001b[0m\u001b[0;34m.\u001b[0m\u001b[0madd_picture\u001b[0m\u001b[0;34m(\u001b[0m\u001b[0mimage_path_or_stream\u001b[0m\u001b[0;34m,\u001b[0m \u001b[0mwidth\u001b[0m\u001b[0;34m,\u001b[0m \u001b[0mheight\u001b[0m\u001b[0;34m)\u001b[0m\u001b[0;34m\u001b[0m\u001b[0;34m\u001b[0m\u001b[0m\n\u001b[0m\u001b[1;32m     73\u001b[0m \u001b[0;34m\u001b[0m\u001b[0m\n\u001b[1;32m     74\u001b[0m     \u001b[0;32mdef\u001b[0m \u001b[0madd_section\u001b[0m\u001b[0;34m(\u001b[0m\u001b[0mself\u001b[0m\u001b[0;34m,\u001b[0m \u001b[0mstart_type\u001b[0m\u001b[0;34m=\u001b[0m\u001b[0mWD_SECTION\u001b[0m\u001b[0;34m.\u001b[0m\u001b[0mNEW_PAGE\u001b[0m\u001b[0;34m)\u001b[0m\u001b[0;34m:\u001b[0m\u001b[0;34m\u001b[0m\u001b[0;34m\u001b[0m\u001b[0m\n",
      "\u001b[0;32m~/opt/anaconda3/lib/python3.8/site-packages/docx/text/run.py\u001b[0m in \u001b[0;36madd_picture\u001b[0;34m(self, image_path_or_stream, width, height)\u001b[0m\n\u001b[1;32m     60\u001b[0m         \u001b[0mvalue\u001b[0m \u001b[0;32mis\u001b[0m \u001b[0mspecified\u001b[0m\u001b[0;34m,\u001b[0m \u001b[0;32mas\u001b[0m \u001b[0;32mis\u001b[0m \u001b[0moften\u001b[0m \u001b[0mthe\u001b[0m \u001b[0mcase\u001b[0m\u001b[0;34m.\u001b[0m\u001b[0;34m\u001b[0m\u001b[0;34m\u001b[0m\u001b[0m\n\u001b[1;32m     61\u001b[0m         \"\"\"\n\u001b[0;32m---> 62\u001b[0;31m         \u001b[0minline\u001b[0m \u001b[0;34m=\u001b[0m \u001b[0mself\u001b[0m\u001b[0;34m.\u001b[0m\u001b[0mpart\u001b[0m\u001b[0;34m.\u001b[0m\u001b[0mnew_pic_inline\u001b[0m\u001b[0;34m(\u001b[0m\u001b[0mimage_path_or_stream\u001b[0m\u001b[0;34m,\u001b[0m \u001b[0mwidth\u001b[0m\u001b[0;34m,\u001b[0m \u001b[0mheight\u001b[0m\u001b[0;34m)\u001b[0m\u001b[0;34m\u001b[0m\u001b[0;34m\u001b[0m\u001b[0m\n\u001b[0m\u001b[1;32m     63\u001b[0m         \u001b[0mself\u001b[0m\u001b[0;34m.\u001b[0m\u001b[0m_r\u001b[0m\u001b[0;34m.\u001b[0m\u001b[0madd_drawing\u001b[0m\u001b[0;34m(\u001b[0m\u001b[0minline\u001b[0m\u001b[0;34m)\u001b[0m\u001b[0;34m\u001b[0m\u001b[0;34m\u001b[0m\u001b[0m\n\u001b[1;32m     64\u001b[0m         \u001b[0;32mreturn\u001b[0m \u001b[0mInlineShape\u001b[0m\u001b[0;34m(\u001b[0m\u001b[0minline\u001b[0m\u001b[0;34m)\u001b[0m\u001b[0;34m\u001b[0m\u001b[0;34m\u001b[0m\u001b[0m\n",
      "\u001b[0;32m~/opt/anaconda3/lib/python3.8/site-packages/docx/parts/story.py\u001b[0m in \u001b[0;36mnew_pic_inline\u001b[0;34m(self, image_descriptor, width, height)\u001b[0m\n\u001b[1;32m     54\u001b[0m         \u001b[0mbased\u001b[0m \u001b[0mon\u001b[0m \u001b[0mthe\u001b[0m \u001b[0mvalues\u001b[0m \u001b[0mof\u001b[0m \u001b[0;34m*\u001b[0m\u001b[0mwidth\u001b[0m\u001b[0;34m*\u001b[0m \u001b[0;32mand\u001b[0m \u001b[0;34m*\u001b[0m\u001b[0mheight\u001b[0m\u001b[0;34m*\u001b[0m\u001b[0;34m.\u001b[0m\u001b[0;34m\u001b[0m\u001b[0;34m\u001b[0m\u001b[0m\n\u001b[1;32m     55\u001b[0m         \"\"\"\n\u001b[0;32m---> 56\u001b[0;31m         \u001b[0mrId\u001b[0m\u001b[0;34m,\u001b[0m \u001b[0mimage\u001b[0m \u001b[0;34m=\u001b[0m \u001b[0mself\u001b[0m\u001b[0;34m.\u001b[0m\u001b[0mget_or_add_image\u001b[0m\u001b[0;34m(\u001b[0m\u001b[0mimage_descriptor\u001b[0m\u001b[0;34m)\u001b[0m\u001b[0;34m\u001b[0m\u001b[0;34m\u001b[0m\u001b[0m\n\u001b[0m\u001b[1;32m     57\u001b[0m         \u001b[0mcx\u001b[0m\u001b[0;34m,\u001b[0m \u001b[0mcy\u001b[0m \u001b[0;34m=\u001b[0m \u001b[0mimage\u001b[0m\u001b[0;34m.\u001b[0m\u001b[0mscaled_dimensions\u001b[0m\u001b[0;34m(\u001b[0m\u001b[0mwidth\u001b[0m\u001b[0;34m,\u001b[0m \u001b[0mheight\u001b[0m\u001b[0;34m)\u001b[0m\u001b[0;34m\u001b[0m\u001b[0;34m\u001b[0m\u001b[0m\n\u001b[1;32m     58\u001b[0m         \u001b[0mshape_id\u001b[0m\u001b[0;34m,\u001b[0m \u001b[0mfilename\u001b[0m \u001b[0;34m=\u001b[0m \u001b[0mself\u001b[0m\u001b[0;34m.\u001b[0m\u001b[0mnext_id\u001b[0m\u001b[0;34m,\u001b[0m \u001b[0mimage\u001b[0m\u001b[0;34m.\u001b[0m\u001b[0mfilename\u001b[0m\u001b[0;34m\u001b[0m\u001b[0;34m\u001b[0m\u001b[0m\n",
      "\u001b[0;32m~/opt/anaconda3/lib/python3.8/site-packages/docx/parts/story.py\u001b[0m in \u001b[0;36mget_or_add_image\u001b[0;34m(self, image_descriptor)\u001b[0m\n\u001b[1;32m     27\u001b[0m         \u001b[0msuch\u001b[0m \u001b[0;32mas\u001b[0m \u001b[0mdimensions\u001b[0m \u001b[0;32mand\u001b[0m \u001b[0mimage\u001b[0m \u001b[0mtype\u001b[0m\u001b[0;34m.\u001b[0m\u001b[0;34m\u001b[0m\u001b[0;34m\u001b[0m\u001b[0m\n\u001b[1;32m     28\u001b[0m         \"\"\"\n\u001b[0;32m---> 29\u001b[0;31m         \u001b[0mimage_part\u001b[0m \u001b[0;34m=\u001b[0m \u001b[0mself\u001b[0m\u001b[0;34m.\u001b[0m\u001b[0m_package\u001b[0m\u001b[0;34m.\u001b[0m\u001b[0mget_or_add_image_part\u001b[0m\u001b[0;34m(\u001b[0m\u001b[0mimage_descriptor\u001b[0m\u001b[0;34m)\u001b[0m\u001b[0;34m\u001b[0m\u001b[0;34m\u001b[0m\u001b[0m\n\u001b[0m\u001b[1;32m     30\u001b[0m         \u001b[0mrId\u001b[0m \u001b[0;34m=\u001b[0m \u001b[0mself\u001b[0m\u001b[0;34m.\u001b[0m\u001b[0mrelate_to\u001b[0m\u001b[0;34m(\u001b[0m\u001b[0mimage_part\u001b[0m\u001b[0;34m,\u001b[0m \u001b[0mRT\u001b[0m\u001b[0;34m.\u001b[0m\u001b[0mIMAGE\u001b[0m\u001b[0;34m)\u001b[0m\u001b[0;34m\u001b[0m\u001b[0;34m\u001b[0m\u001b[0m\n\u001b[1;32m     31\u001b[0m         \u001b[0;32mreturn\u001b[0m \u001b[0mrId\u001b[0m\u001b[0;34m,\u001b[0m \u001b[0mimage_part\u001b[0m\u001b[0;34m.\u001b[0m\u001b[0mimage\u001b[0m\u001b[0;34m\u001b[0m\u001b[0;34m\u001b[0m\u001b[0m\n",
      "\u001b[0;32m~/opt/anaconda3/lib/python3.8/site-packages/docx/package.py\u001b[0m in \u001b[0;36mget_or_add_image_part\u001b[0;34m(self, image_descriptor)\u001b[0m\n\u001b[1;32m     29\u001b[0m         \u001b[0mcollection\u001b[0m\u001b[0;34m.\u001b[0m\u001b[0;34m\u001b[0m\u001b[0;34m\u001b[0m\u001b[0m\n\u001b[1;32m     30\u001b[0m         \"\"\"\n\u001b[0;32m---> 31\u001b[0;31m         \u001b[0;32mreturn\u001b[0m \u001b[0mself\u001b[0m\u001b[0;34m.\u001b[0m\u001b[0mimage_parts\u001b[0m\u001b[0;34m.\u001b[0m\u001b[0mget_or_add_image_part\u001b[0m\u001b[0;34m(\u001b[0m\u001b[0mimage_descriptor\u001b[0m\u001b[0;34m)\u001b[0m\u001b[0;34m\u001b[0m\u001b[0;34m\u001b[0m\u001b[0m\n\u001b[0m\u001b[1;32m     32\u001b[0m \u001b[0;34m\u001b[0m\u001b[0m\n\u001b[1;32m     33\u001b[0m     \u001b[0;34m@\u001b[0m\u001b[0mlazyproperty\u001b[0m\u001b[0;34m\u001b[0m\u001b[0;34m\u001b[0m\u001b[0m\n",
      "\u001b[0;32m~/opt/anaconda3/lib/python3.8/site-packages/docx/package.py\u001b[0m in \u001b[0;36mget_or_add_image_part\u001b[0;34m(self, image_descriptor)\u001b[0m\n\u001b[1;32m     72\u001b[0m         \u001b[0mcollection\u001b[0m\u001b[0;34m.\u001b[0m\u001b[0;34m\u001b[0m\u001b[0;34m\u001b[0m\u001b[0m\n\u001b[1;32m     73\u001b[0m         \"\"\"\n\u001b[0;32m---> 74\u001b[0;31m         \u001b[0mimage\u001b[0m \u001b[0;34m=\u001b[0m \u001b[0mImage\u001b[0m\u001b[0;34m.\u001b[0m\u001b[0mfrom_file\u001b[0m\u001b[0;34m(\u001b[0m\u001b[0mimage_descriptor\u001b[0m\u001b[0;34m)\u001b[0m\u001b[0;34m\u001b[0m\u001b[0;34m\u001b[0m\u001b[0m\n\u001b[0m\u001b[1;32m     75\u001b[0m         \u001b[0mmatching_image_part\u001b[0m \u001b[0;34m=\u001b[0m \u001b[0mself\u001b[0m\u001b[0;34m.\u001b[0m\u001b[0m_get_by_sha1\u001b[0m\u001b[0;34m(\u001b[0m\u001b[0mimage\u001b[0m\u001b[0;34m.\u001b[0m\u001b[0msha1\u001b[0m\u001b[0;34m)\u001b[0m\u001b[0;34m\u001b[0m\u001b[0;34m\u001b[0m\u001b[0m\n\u001b[1;32m     76\u001b[0m         \u001b[0;32mif\u001b[0m \u001b[0mmatching_image_part\u001b[0m \u001b[0;32mis\u001b[0m \u001b[0;32mnot\u001b[0m \u001b[0;32mNone\u001b[0m\u001b[0;34m:\u001b[0m\u001b[0;34m\u001b[0m\u001b[0;34m\u001b[0m\u001b[0m\n",
      "\u001b[0;32m~/opt/anaconda3/lib/python3.8/site-packages/docx/image/image.py\u001b[0m in \u001b[0;36mfrom_file\u001b[0;34m(cls, image_descriptor)\u001b[0m\n\u001b[1;32m     50\u001b[0m         \u001b[0;32melse\u001b[0m\u001b[0;34m:\u001b[0m\u001b[0;34m\u001b[0m\u001b[0;34m\u001b[0m\u001b[0m\n\u001b[1;32m     51\u001b[0m             \u001b[0mstream\u001b[0m \u001b[0;34m=\u001b[0m \u001b[0mimage_descriptor\u001b[0m\u001b[0;34m\u001b[0m\u001b[0;34m\u001b[0m\u001b[0m\n\u001b[0;32m---> 52\u001b[0;31m             \u001b[0mstream\u001b[0m\u001b[0;34m.\u001b[0m\u001b[0mseek\u001b[0m\u001b[0;34m(\u001b[0m\u001b[0;36m0\u001b[0m\u001b[0;34m)\u001b[0m\u001b[0;34m\u001b[0m\u001b[0;34m\u001b[0m\u001b[0m\n\u001b[0m\u001b[1;32m     53\u001b[0m             \u001b[0mblob\u001b[0m \u001b[0;34m=\u001b[0m \u001b[0mstream\u001b[0m\u001b[0;34m.\u001b[0m\u001b[0mread\u001b[0m\u001b[0;34m(\u001b[0m\u001b[0;34m)\u001b[0m\u001b[0;34m\u001b[0m\u001b[0;34m\u001b[0m\u001b[0m\n\u001b[1;32m     54\u001b[0m             \u001b[0mfilename\u001b[0m \u001b[0;34m=\u001b[0m \u001b[0;32mNone\u001b[0m\u001b[0;34m\u001b[0m\u001b[0;34m\u001b[0m\u001b[0m\n",
      "\u001b[0;31mAttributeError\u001b[0m: 'AxesSubplot' object has no attribute 'seek'"
     ]
    }
   ],
   "source": [
    "#GERAR DOCX\n",
    "from docx import Document\n",
    "from docx.shared import Inches\n",
    "\n",
    "from docx.enum.style import WD_STYLE_TYPE\n",
    "from docx.enum.table import WD_TABLE_ALIGNMENT\n",
    "from docx.enum.text import WD_ALIGN_PARAGRAPH\n",
    "from docx.enum.section import WD_ORIENT\n",
    "from docx.enum.section import WD_SECTION\n",
    "from docx.shared import Pt\n",
    "from docx.shared import Inches\n",
    "\n",
    "document = Document()\n",
    "\n",
    "# Orientação da página - Paisagem\n",
    "section = document.sections[-1]\n",
    "section.orientation = WD_ORIENT.LANDSCAPE\n",
    "new_width, new_height = section.page_height, section.page_width\n",
    "section.page_width = new_width\n",
    "section.page_height = new_height\n",
    "\n",
    "styles = document.styles\n",
    "#estilo do paragrafo\n",
    "p = styles.add_style('Paragraph1', WD_STYLE_TYPE.PARAGRAPH)\n",
    "p.font.name = 'Calibri'\n",
    "p.font.size = Pt(14)\n",
    "\n",
    "p = styles.add_style('Paragraph2', WD_STYLE_TYPE.PARAGRAPH)\n",
    "p.font.name = 'Calibri'\n",
    "p.font.size = Pt(18)\n",
    "\n",
    "p = styles.add_style('Paragraph3', WD_STYLE_TYPE.PARAGRAPH)\n",
    "p.font.name = 'Calibri'\n",
    "p.font.size = Pt(11)\n",
    "\n",
    "#texto\n",
    "p1 = document.add_paragraph('SES/RS SECRETARIA DA SAÚDE DO ESTADO DO RIO GRANDE DO SUL\\nCEVS – CENTRO ESTADUAL DE VIGILÂNCIA EM SAÚDE\\nDivisão de Vigilância Epidemiológica', style='Paragraph1')\n",
    "p1.alignment = WD_ALIGN_PARAGRAPH.CENTER\n",
    "\n",
    "se_periodo = '39 a 48'\n",
    "p2 = document.add_paragraph(f'\\n\\n\\n\\nPercentual de vacinados em hospitalizados e óbitos por SRAG COVID-19, RS\\nSemanas Epidemiológicas {se_periodo} / 2021\\nTABELAS E GRÁFICOS\\n\\n\\n', style='Paragraph2')\n",
    "p2.alignment = WD_ALIGN_PARAGRAPH.CENTER\n",
    "\n",
    "p3 = document.add_paragraph(f'Elaboração: Paola Lucca Pizutti e Natanael de Campos Klein', style='Paragraph1')\n",
    "p3.alignment = WD_ALIGN_PARAGRAPH.CENTER\n",
    "\n",
    "p4 = document.add_paragraph(f'\\n\\n\\nPorto Alegre, RS, {data_hoje}', style='Paragraph3')\n",
    "p4.alignment = WD_ALIGN_PARAGRAPH.CENTER\n",
    "\n",
    "#nova página\n",
    "document.add_page_break()\n",
    "\n",
    "#gráfico\n",
    "document.add_picture('Grafico1', width=Inches(8.25))\n",
    "\n",
    "document.save('doc.docx')"
   ]
  },
  {
   "cell_type": "code",
   "execution_count": 18,
   "id": "a6e980b4",
   "metadata": {},
   "outputs": [
    {
     "ename": "ValueError",
     "evalue": "too many values to unpack (expected 2)",
     "output_type": "error",
     "traceback": [
      "\u001b[0;31m---------------------------------------------------------------------------\u001b[0m",
      "\u001b[0;31mValueError\u001b[0m                                Traceback (most recent call last)",
      "\u001b[0;32m<ipython-input-18-14f1ab1b5773>\u001b[0m in \u001b[0;36m<module>\u001b[0;34m\u001b[0m\n\u001b[1;32m     10\u001b[0m \u001b[0mtitulo_tabela\u001b[0m\u001b[0;34m[\u001b[0m\u001b[0;36m1\u001b[0m\u001b[0;34m]\u001b[0m\u001b[0;34m.\u001b[0m\u001b[0mtext\u001b[0m \u001b[0;34m=\u001b[0m \u001b[0;34m\"Município da Notificação\"\u001b[0m\u001b[0;34m\u001b[0m\u001b[0;34m\u001b[0m\u001b[0m\n\u001b[1;32m     11\u001b[0m \u001b[0;34m\u001b[0m\u001b[0m\n\u001b[0;32m---> 12\u001b[0;31m \u001b[0;32mfor\u001b[0m \u001b[0midade\u001b[0m\u001b[0;34m,\u001b[0m \u001b[0mmunicipio\u001b[0m \u001b[0;32min\u001b[0m \u001b[0mtotal\u001b[0m\u001b[0;34m:\u001b[0m\u001b[0;34m\u001b[0m\u001b[0;34m\u001b[0m\u001b[0m\n\u001b[0m\u001b[1;32m     13\u001b[0m     \u001b[0mlinha\u001b[0m \u001b[0;34m=\u001b[0m \u001b[0mtabela\u001b[0m\u001b[0;34m.\u001b[0m\u001b[0madd_row\u001b[0m\u001b[0;34m(\u001b[0m\u001b[0;34m)\u001b[0m\u001b[0;34m.\u001b[0m\u001b[0mcells\u001b[0m\u001b[0;34m\u001b[0m\u001b[0;34m\u001b[0m\u001b[0m\n\u001b[1;32m     14\u001b[0m     \u001b[0mlinha\u001b[0m\u001b[0;34m[\u001b[0m\u001b[0;36m0\u001b[0m\u001b[0;34m]\u001b[0m\u001b[0;34m.\u001b[0m\u001b[0mtext\u001b[0m \u001b[0;34m=\u001b[0m \u001b[0mstr\u001b[0m\u001b[0;34m(\u001b[0m\u001b[0midade\u001b[0m\u001b[0;34m)\u001b[0m\u001b[0;34m\u001b[0m\u001b[0;34m\u001b[0m\u001b[0m\n",
      "\u001b[0;31mValueError\u001b[0m: too many values to unpack (expected 2)"
     ]
    }
   ],
   "source": [
    "#tabela\n",
    "total1 = [\n",
    "    [5, 'Porto Alegre'],\n",
    "    [9, 'Novo Hamburgo']\n",
    "]\n",
    "\n",
    "tabela = document.add_table(rows=1,cols=2)\n",
    "titulo_tabela = tabela.rows[0].cells\n",
    "titulo_tabela[0].text = \"Idade Evento\"\n",
    "titulo_tabela[1].text = \"Município da Notificação\"\n",
    "\n",
    "for idade, municipio in total:\n",
    "    linha = tabela.add_row().cells\n",
    "    linha[0].text = str(idade)\n",
    "    linha[1].text = municipio"
   ]
  },
  {
   "cell_type": "code",
   "execution_count": null,
   "id": "5fef11e6",
   "metadata": {},
   "outputs": [],
   "source": [
    "# POSSÍVEIS SOLUÇÕES\n",
    "# Transformar em lista\n",
    "# preciso desempacotar"
   ]
  }
 ],
 "metadata": {
  "kernelspec": {
   "display_name": "Python 3",
   "language": "python",
   "name": "python3"
  },
  "language_info": {
   "codemirror_mode": {
    "name": "ipython",
    "version": 3
   },
   "file_extension": ".py",
   "mimetype": "text/x-python",
   "name": "python",
   "nbconvert_exporter": "python",
   "pygments_lexer": "ipython3",
   "version": "3.8.8"
  }
 },
 "nbformat": 4,
 "nbformat_minor": 5
}
