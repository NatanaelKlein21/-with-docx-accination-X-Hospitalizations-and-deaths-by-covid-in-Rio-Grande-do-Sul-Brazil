{
 "cells": [
  {
   "cell_type": "code",
   "execution_count": 1,
   "id": "2c384987",
   "metadata": {},
   "outputs": [
    {
     "name": "stdout",
     "output_type": "stream",
     "text": [
      "Requirement already satisfied: python-docx in /Users/natanaelklein/opt/anaconda3/lib/python3.8/site-packages (0.8.11)\n",
      "Requirement already satisfied: lxml>=2.3.2 in /Users/natanaelklein/opt/anaconda3/lib/python3.8/site-packages (from python-docx) (4.6.3)\n",
      "Note: you may need to restart the kernel to use updated packages.\n"
     ]
    }
   ],
   "source": [
    "pip install python-docx"
   ]
  },
  {
   "cell_type": "code",
   "execution_count": 2,
   "id": "39a13fdf",
   "metadata": {},
   "outputs": [],
   "source": [
    "from docx import Document\n",
    "from docx.shared import Inches\n",
    "\n",
    "from docx.enum.style import WD_STYLE_TYPE\n",
    "from docx.enum.table import WD_TABLE_ALIGNMENT\n",
    "from docx.enum.text import WD_ALIGN_PARAGRAPH\n",
    "from docx.enum.section import WD_ORIENT\n",
    "from docx.enum.section import WD_SECTION\n",
    "\n",
    "from docx.shared import Pt\n",
    "from docx.shared import Inches"
   ]
  },
  {
   "cell_type": "code",
   "execution_count": 7,
   "id": "57a21f4c",
   "metadata": {},
   "outputs": [],
   "source": [
    "document = Document('template.docx')\n",
    "\n",
    "#page orientation\n",
    "section = document.sections[-1]\n",
    "section.orientation = WD_ORIENT.LANDSCAPE\n",
    "new_width, new_height = section.page_height, section.page_width\n",
    "section.page_width = new_width\n",
    "section.page_height = new_height\n",
    "\n",
    "styles = document.styles\n",
    "\n",
    "#style paragraph\n",
    "p = styles.add_style('Paragraph1', WD_STYLE_TYPE.PARAGRAPH)\n",
    "p.font.name = 'Calibri'\n",
    "p.font.size = Pt(14)\n",
    "\n",
    "p = styles.add_style('Paragraph2', WD_STYLE_TYPE.PARAGRAPH)\n",
    "p.font.name = 'Calibri'\n",
    "p.font.size = Pt(18)\n",
    "\n",
    "p = styles.add_style('Paragraph3', WD_STYLE_TYPE.PARAGRAPH)\n",
    "p.font.name = 'Calibri'\n",
    "p.font.size = Pt(11)\n",
    "\n",
    "p = styles.add_style('Paragraph4', WD_STYLE_TYPE.PARAGRAPH)\n",
    "p.font.name = 'Calibri'\n",
    "p.font.size = Pt(10)\n",
    "\n",
    "#style table\n",
    "p = styles.add_style('Table', WD_STYLE_TYPE.TABLE)\n",
    "p.font.name = 'Light Shading'\n",
    "p.font.size = Pt(10)"
   ]
  },
  {
   "cell_type": "code",
   "execution_count": 8,
   "id": "0704a887",
   "metadata": {},
   "outputs": [
    {
     "data": {
      "text/plain": [
       "<docx.text.paragraph.Paragraph at 0x7fbc35137d00>"
      ]
     },
     "execution_count": 8,
     "metadata": {},
     "output_type": "execute_result"
    }
   ],
   "source": [
    "#text\n",
    "p1 = document.add_paragraph('SES/RS SECRETARIA DA SAÚDE DO ESTADO DO RIO GRANDE DO SUL\\nCEVS – CENTRO ESTADUAL DE VIGILÂNCIA EM SAÚDE\\nDivisão de Vigilância Epidemiológica', style='Paragraph1')\n",
    "p1.alignment = WD_ALIGN_PARAGRAPH.CENTER\n",
    "\n",
    "p2 = document.add_paragraph(f'\\n\\n\\n\\nPercentual de vacinados em hospitalizados e óbitos por SRAG COVID-19, RS\\nTABELAS E GRÁFICOS\\n\\n\\n', style='Paragraph2')\n",
    "p2.alignment = WD_ALIGN_PARAGRAPH.CENTER\n",
    "\n",
    "p3 = document.add_paragraph('\\n\\n\\nPorto Alegre, RS', style='Paragraph3')\n",
    "p3.alignment = WD_ALIGN_PARAGRAPH.CENTER\n",
    "\n",
    "#new page\n",
    "document.add_page_break()"
   ]
  },
  {
   "cell_type": "code",
   "execution_count": 9,
   "id": "09e4ae5b",
   "metadata": {},
   "outputs": [],
   "source": [
    "#table\n",
    "database = [\n",
    "    [520, 'Porto Alegre'],\n",
    "    [980, 'Novo Hamburgo']\n",
    "]\n",
    "\n",
    "t = document.add_table(rows=1,cols=2)\n",
    "title_t = t.rows[0].cells\n",
    "title_t[0].text = \"Quantidade\"\n",
    "title_t[1].text = \"Município\"\n",
    "\n",
    "for quantidade, municipio in database:\n",
    "    l = t.add_row().cells\n",
    "    l[0].text = str(quantidade)\n",
    "    l[1].text = municipio\n",
    "\n",
    "# Save file docx\n",
    "document.save('Relatório.docx')"
   ]
  },
  {
   "cell_type": "code",
   "execution_count": null,
   "id": "69617993",
   "metadata": {},
   "outputs": [],
   "source": []
  }
 ],
 "metadata": {
  "kernelspec": {
   "display_name": "Python 3",
   "language": "python",
   "name": "python3"
  },
  "language_info": {
   "codemirror_mode": {
    "name": "ipython",
    "version": 3
   },
   "file_extension": ".py",
   "mimetype": "text/x-python",
   "name": "python",
   "nbconvert_exporter": "python",
   "pygments_lexer": "ipython3",
   "version": "3.8.8"
  }
 },
 "nbformat": 4,
 "nbformat_minor": 5
}
